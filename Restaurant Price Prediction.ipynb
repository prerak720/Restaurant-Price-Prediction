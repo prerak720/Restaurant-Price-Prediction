{
 "cells": [
  {
   "cell_type": "markdown",
   "id": "cdf0c3a0",
   "metadata": {},
   "source": [
    "#### Problem Statement:\n",
    "Create a machine learning model to predict revenue of the restaurant based on\n",
    "the features present in the dataset."
   ]
  },
  {
   "cell_type": "markdown",
   "id": "901036e9",
   "metadata": {},
   "source": [
    "-Prerak pandya"
   ]
  },
  {
   "cell_type": "code",
   "execution_count": 1,
   "id": "ceb3c312",
   "metadata": {},
   "outputs": [],
   "source": [
    "#First We Import Lib for data cleaning\n",
    "import pandas as pd\n",
    "import numpy as np\n",
    "import seaborn as sns\n",
    "import matplotlib.pyplot as plt"
   ]
  },
  {
   "cell_type": "code",
   "execution_count": 2,
   "id": "78a3a585",
   "metadata": {},
   "outputs": [],
   "source": [
    "df = pd.read_csv(r\"C:\\Users\\Prerak\\Desktop\\Resurent Price Prediction\\revenue_prediction.csv\")"
   ]
  },
  {
   "cell_type": "code",
   "execution_count": 3,
   "id": "915575af",
   "metadata": {},
   "outputs": [
    {
     "data": {
      "text/html": [
       "<div>\n",
       "<style scoped>\n",
       "    .dataframe tbody tr th:only-of-type {\n",
       "        vertical-align: middle;\n",
       "    }\n",
       "\n",
       "    .dataframe tbody tr th {\n",
       "        vertical-align: top;\n",
       "    }\n",
       "\n",
       "    .dataframe thead th {\n",
       "        text-align: right;\n",
       "    }\n",
       "</style>\n",
       "<table border=\"1\" class=\"dataframe\">\n",
       "  <thead>\n",
       "    <tr style=\"text-align: right;\">\n",
       "      <th></th>\n",
       "      <th>Id</th>\n",
       "      <th>Name</th>\n",
       "      <th>Franchise</th>\n",
       "      <th>Category</th>\n",
       "      <th>City</th>\n",
       "      <th>No_Of_Item</th>\n",
       "      <th>Order_Placed</th>\n",
       "      <th>Revenue</th>\n",
       "    </tr>\n",
       "  </thead>\n",
       "  <tbody>\n",
       "    <tr>\n",
       "      <th>0</th>\n",
       "      <td>101</td>\n",
       "      <td>HungryHowie'sPizza</td>\n",
       "      <td>Yes</td>\n",
       "      <td>Mexican</td>\n",
       "      <td>Bengaluru</td>\n",
       "      <td>55</td>\n",
       "      <td>5.5</td>\n",
       "      <td>5953753</td>\n",
       "    </tr>\n",
       "    <tr>\n",
       "      <th>1</th>\n",
       "      <td>102</td>\n",
       "      <td>CharleysPhillySteaks</td>\n",
       "      <td>No</td>\n",
       "      <td>Varied Menu</td>\n",
       "      <td>Gurugram</td>\n",
       "      <td>72</td>\n",
       "      <td>6.8</td>\n",
       "      <td>7223131</td>\n",
       "    </tr>\n",
       "    <tr>\n",
       "      <th>2</th>\n",
       "      <td>103</td>\n",
       "      <td>Chuy's</td>\n",
       "      <td>Yes</td>\n",
       "      <td>Chicken</td>\n",
       "      <td>Pune</td>\n",
       "      <td>25</td>\n",
       "      <td>1.9</td>\n",
       "      <td>2555379</td>\n",
       "    </tr>\n",
       "    <tr>\n",
       "      <th>3</th>\n",
       "      <td>104</td>\n",
       "      <td>O'Charley's</td>\n",
       "      <td>Yes</td>\n",
       "      <td>Italian/Pizza</td>\n",
       "      <td>Mumbai</td>\n",
       "      <td>18</td>\n",
       "      <td>2.5</td>\n",
       "      <td>2175511</td>\n",
       "    </tr>\n",
       "    <tr>\n",
       "      <th>4</th>\n",
       "      <td>105</td>\n",
       "      <td>PolloTropical</td>\n",
       "      <td>Yes</td>\n",
       "      <td>Pizza</td>\n",
       "      <td>Noida</td>\n",
       "      <td>48</td>\n",
       "      <td>4.2</td>\n",
       "      <td>4816715</td>\n",
       "    </tr>\n",
       "    <tr>\n",
       "      <th>...</th>\n",
       "      <td>...</td>\n",
       "      <td>...</td>\n",
       "      <td>...</td>\n",
       "      <td>...</td>\n",
       "      <td>...</td>\n",
       "      <td>...</td>\n",
       "      <td>...</td>\n",
       "      <td>...</td>\n",
       "    </tr>\n",
       "    <tr>\n",
       "      <th>95</th>\n",
       "      <td>196</td>\n",
       "      <td>Wetzel'sPretzels</td>\n",
       "      <td>No</td>\n",
       "      <td>Italian/Pizza</td>\n",
       "      <td>Bengaluru</td>\n",
       "      <td>19</td>\n",
       "      <td>1.1</td>\n",
       "      <td>1270499</td>\n",
       "    </tr>\n",
       "    <tr>\n",
       "      <th>96</th>\n",
       "      <td>197</td>\n",
       "      <td>LaMadeleineCountryFrenchCafe</td>\n",
       "      <td>Yes</td>\n",
       "      <td>Varied Menu</td>\n",
       "      <td>Bengaluru</td>\n",
       "      <td>75</td>\n",
       "      <td>6.3</td>\n",
       "      <td>6412623</td>\n",
       "    </tr>\n",
       "    <tr>\n",
       "      <th>97</th>\n",
       "      <td>198</td>\n",
       "      <td>Giordano's</td>\n",
       "      <td>Yes</td>\n",
       "      <td>Varied Menu</td>\n",
       "      <td>Gurugram</td>\n",
       "      <td>77</td>\n",
       "      <td>6.2</td>\n",
       "      <td>6694797</td>\n",
       "    </tr>\n",
       "    <tr>\n",
       "      <th>98</th>\n",
       "      <td>199</td>\n",
       "      <td>IslandsFineBurgers&amp;Drinks</td>\n",
       "      <td>Yes</td>\n",
       "      <td>Sports Bar</td>\n",
       "      <td>Pune</td>\n",
       "      <td>25</td>\n",
       "      <td>2.1</td>\n",
       "      <td>2344689</td>\n",
       "    </tr>\n",
       "    <tr>\n",
       "      <th>99</th>\n",
       "      <td>200</td>\n",
       "      <td>Mimi'sBistro&amp;Bakery</td>\n",
       "      <td>No</td>\n",
       "      <td>BBQ</td>\n",
       "      <td>Mumbai</td>\n",
       "      <td>50</td>\n",
       "      <td>4.4</td>\n",
       "      <td>4567678</td>\n",
       "    </tr>\n",
       "  </tbody>\n",
       "</table>\n",
       "<p>100 rows × 8 columns</p>\n",
       "</div>"
      ],
      "text/plain": [
       "     Id                          Name Franchise       Category       City  \\\n",
       "0   101            HungryHowie'sPizza       Yes        Mexican  Bengaluru   \n",
       "1   102          CharleysPhillySteaks        No    Varied Menu   Gurugram   \n",
       "2   103                        Chuy's       Yes        Chicken       Pune   \n",
       "3   104                   O'Charley's       Yes  Italian/Pizza     Mumbai   \n",
       "4   105                 PolloTropical       Yes          Pizza      Noida   \n",
       "..  ...                           ...       ...            ...        ...   \n",
       "95  196              Wetzel'sPretzels        No  Italian/Pizza  Bengaluru   \n",
       "96  197  LaMadeleineCountryFrenchCafe       Yes    Varied Menu  Bengaluru   \n",
       "97  198                    Giordano's       Yes    Varied Menu   Gurugram   \n",
       "98  199     IslandsFineBurgers&Drinks       Yes     Sports Bar       Pune   \n",
       "99  200           Mimi'sBistro&Bakery        No            BBQ     Mumbai   \n",
       "\n",
       "    No_Of_Item  Order_Placed  Revenue  \n",
       "0           55           5.5  5953753  \n",
       "1           72           6.8  7223131  \n",
       "2           25           1.9  2555379  \n",
       "3           18           2.5  2175511  \n",
       "4           48           4.2  4816715  \n",
       "..         ...           ...      ...  \n",
       "95          19           1.1  1270499  \n",
       "96          75           6.3  6412623  \n",
       "97          77           6.2  6694797  \n",
       "98          25           2.1  2344689  \n",
       "99          50           4.4  4567678  \n",
       "\n",
       "[100 rows x 8 columns]"
      ]
     },
     "execution_count": 3,
     "metadata": {},
     "output_type": "execute_result"
    }
   ],
   "source": [
    "df"
   ]
  },
  {
   "cell_type": "code",
   "execution_count": 4,
   "id": "acfe004e",
   "metadata": {},
   "outputs": [],
   "source": [
    "# Here we have only 100 rows for prediction \n",
    "# so first we understand our data \n",
    "# 1st we going to clean data for good accurancy"
   ]
  },
  {
   "cell_type": "code",
   "execution_count": 5,
   "id": "266c852c",
   "metadata": {},
   "outputs": [
    {
     "data": {
      "text/plain": [
       "(100, 8)"
      ]
     },
     "execution_count": 5,
     "metadata": {},
     "output_type": "execute_result"
    }
   ],
   "source": [
    "df.shape"
   ]
  },
  {
   "cell_type": "code",
   "execution_count": 6,
   "id": "1705e2a6",
   "metadata": {},
   "outputs": [
    {
     "data": {
      "text/plain": [
       "Id              0\n",
       "Name            0\n",
       "Franchise       0\n",
       "Category        0\n",
       "City            0\n",
       "No_Of_Item      0\n",
       "Order_Placed    0\n",
       "Revenue         0\n",
       "dtype: int64"
      ]
     },
     "execution_count": 6,
     "metadata": {},
     "output_type": "execute_result"
    }
   ],
   "source": [
    "df.isnull().sum()\n",
    "#  check null value using isnull function"
   ]
  },
  {
   "cell_type": "code",
   "execution_count": 8,
   "id": "437a962a",
   "metadata": {},
   "outputs": [
    {
     "data": {
      "text/plain": [
       "0"
      ]
     },
     "execution_count": 8,
     "metadata": {},
     "output_type": "execute_result"
    }
   ],
   "source": [
    "df.duplicated().sum()\n",
    "# check duplicate value using duplicate function"
   ]
  },
  {
   "cell_type": "code",
   "execution_count": 10,
   "id": "db0a9cac",
   "metadata": {},
   "outputs": [
    {
     "data": {
      "text/html": [
       "<div>\n",
       "<style scoped>\n",
       "    .dataframe tbody tr th:only-of-type {\n",
       "        vertical-align: middle;\n",
       "    }\n",
       "\n",
       "    .dataframe tbody tr th {\n",
       "        vertical-align: top;\n",
       "    }\n",
       "\n",
       "    .dataframe thead th {\n",
       "        text-align: right;\n",
       "    }\n",
       "</style>\n",
       "<table border=\"1\" class=\"dataframe\">\n",
       "  <thead>\n",
       "    <tr style=\"text-align: right;\">\n",
       "      <th></th>\n",
       "      <th>Id</th>\n",
       "      <th>No_Of_Item</th>\n",
       "      <th>Order_Placed</th>\n",
       "      <th>Revenue</th>\n",
       "    </tr>\n",
       "  </thead>\n",
       "  <tbody>\n",
       "    <tr>\n",
       "      <th>count</th>\n",
       "      <td>100.000000</td>\n",
       "      <td>100.000000</td>\n",
       "      <td>100.000000</td>\n",
       "      <td>1.000000e+02</td>\n",
       "    </tr>\n",
       "    <tr>\n",
       "      <th>mean</th>\n",
       "      <td>150.500000</td>\n",
       "      <td>49.080000</td>\n",
       "      <td>4.086000</td>\n",
       "      <td>4.395161e+06</td>\n",
       "    </tr>\n",
       "    <tr>\n",
       "      <th>std</th>\n",
       "      <td>29.011492</td>\n",
       "      <td>22.370923</td>\n",
       "      <td>2.055101</td>\n",
       "      <td>2.659932e+06</td>\n",
       "    </tr>\n",
       "    <tr>\n",
       "      <th>min</th>\n",
       "      <td>101.000000</td>\n",
       "      <td>18.000000</td>\n",
       "      <td>1.000000</td>\n",
       "      <td>8.498700e+05</td>\n",
       "    </tr>\n",
       "    <tr>\n",
       "      <th>25%</th>\n",
       "      <td>125.750000</td>\n",
       "      <td>34.750000</td>\n",
       "      <td>2.750000</td>\n",
       "      <td>2.688328e+06</td>\n",
       "    </tr>\n",
       "    <tr>\n",
       "      <th>50%</th>\n",
       "      <td>150.500000</td>\n",
       "      <td>45.000000</td>\n",
       "      <td>3.650000</td>\n",
       "      <td>3.911401e+06</td>\n",
       "    </tr>\n",
       "    <tr>\n",
       "      <th>75%</th>\n",
       "      <td>175.250000</td>\n",
       "      <td>57.250000</td>\n",
       "      <td>5.100000</td>\n",
       "      <td>5.330084e+06</td>\n",
       "    </tr>\n",
       "    <tr>\n",
       "      <th>max</th>\n",
       "      <td>200.000000</td>\n",
       "      <td>126.000000</td>\n",
       "      <td>13.000000</td>\n",
       "      <td>1.969694e+07</td>\n",
       "    </tr>\n",
       "  </tbody>\n",
       "</table>\n",
       "</div>"
      ],
      "text/plain": [
       "               Id  No_Of_Item  Order_Placed       Revenue\n",
       "count  100.000000  100.000000    100.000000  1.000000e+02\n",
       "mean   150.500000   49.080000      4.086000  4.395161e+06\n",
       "std     29.011492   22.370923      2.055101  2.659932e+06\n",
       "min    101.000000   18.000000      1.000000  8.498700e+05\n",
       "25%    125.750000   34.750000      2.750000  2.688328e+06\n",
       "50%    150.500000   45.000000      3.650000  3.911401e+06\n",
       "75%    175.250000   57.250000      5.100000  5.330084e+06\n",
       "max    200.000000  126.000000     13.000000  1.969694e+07"
      ]
     },
     "execution_count": 10,
     "metadata": {},
     "output_type": "execute_result"
    }
   ],
   "source": [
    "df.describe()\n",
    "# check stastastics number using describe for better understand the data"
   ]
  },
  {
   "cell_type": "code",
   "execution_count": 11,
   "id": "4cab8be1",
   "metadata": {},
   "outputs": [
    {
     "data": {
      "text/plain": [
       "Id                int64\n",
       "Name             object\n",
       "Franchise        object\n",
       "Category         object\n",
       "City             object\n",
       "No_Of_Item        int64\n",
       "Order_Placed    float64\n",
       "Revenue           int64\n",
       "dtype: object"
      ]
     },
     "execution_count": 11,
     "metadata": {},
     "output_type": "execute_result"
    }
   ],
   "source": [
    "df.dtypes\n",
    "#check data type\n",
    "# we have see there is no problem in data type"
   ]
  },
  {
   "cell_type": "code",
   "execution_count": 13,
   "id": "30463819",
   "metadata": {},
   "outputs": [
    {
     "data": {
      "text/plain": [
       "array(['Mexican', 'Varied Menu', 'Chicken', 'Italian/Pizza', 'Pizza',\n",
       "       'Seafood', 'Steak', 'Frozen Desserts', 'Coffee Cafe', 'BBQ',\n",
       "       'Sandwich', 'Bakery Cafe', 'Burger', 'Asian', 'Family Style',\n",
       "       'Sports Bar', 'Asian/Noodle', 'Family Casual', 'Snack', 'Healthy'],\n",
       "      dtype=object)"
      ]
     },
     "execution_count": 13,
     "metadata": {},
     "output_type": "execute_result"
    }
   ],
   "source": [
    "#first we check unique values in Category\n",
    "df['Category'].unique()"
   ]
  },
  {
   "cell_type": "markdown",
   "id": "d9ec6d72",
   "metadata": {},
   "source": [
    "So many values we have so we drop this column we drop object datatype columns"
   ]
  },
  {
   "cell_type": "code",
   "execution_count": 19,
   "id": "052766f9",
   "metadata": {},
   "outputs": [],
   "source": [
    "df = df.drop(columns= ['City','Franchise','Name'])"
   ]
  },
  {
   "cell_type": "code",
   "execution_count": 20,
   "id": "f0b903d9",
   "metadata": {},
   "outputs": [
    {
     "data": {
      "text/html": [
       "<div>\n",
       "<style scoped>\n",
       "    .dataframe tbody tr th:only-of-type {\n",
       "        vertical-align: middle;\n",
       "    }\n",
       "\n",
       "    .dataframe tbody tr th {\n",
       "        vertical-align: top;\n",
       "    }\n",
       "\n",
       "    .dataframe thead th {\n",
       "        text-align: right;\n",
       "    }\n",
       "</style>\n",
       "<table border=\"1\" class=\"dataframe\">\n",
       "  <thead>\n",
       "    <tr style=\"text-align: right;\">\n",
       "      <th></th>\n",
       "      <th>Id</th>\n",
       "      <th>No_Of_Item</th>\n",
       "      <th>Order_Placed</th>\n",
       "      <th>Revenue</th>\n",
       "    </tr>\n",
       "  </thead>\n",
       "  <tbody>\n",
       "    <tr>\n",
       "      <th>0</th>\n",
       "      <td>101</td>\n",
       "      <td>55</td>\n",
       "      <td>5.5</td>\n",
       "      <td>5953753</td>\n",
       "    </tr>\n",
       "    <tr>\n",
       "      <th>1</th>\n",
       "      <td>102</td>\n",
       "      <td>72</td>\n",
       "      <td>6.8</td>\n",
       "      <td>7223131</td>\n",
       "    </tr>\n",
       "    <tr>\n",
       "      <th>2</th>\n",
       "      <td>103</td>\n",
       "      <td>25</td>\n",
       "      <td>1.9</td>\n",
       "      <td>2555379</td>\n",
       "    </tr>\n",
       "    <tr>\n",
       "      <th>3</th>\n",
       "      <td>104</td>\n",
       "      <td>18</td>\n",
       "      <td>2.5</td>\n",
       "      <td>2175511</td>\n",
       "    </tr>\n",
       "    <tr>\n",
       "      <th>4</th>\n",
       "      <td>105</td>\n",
       "      <td>48</td>\n",
       "      <td>4.2</td>\n",
       "      <td>4816715</td>\n",
       "    </tr>\n",
       "    <tr>\n",
       "      <th>...</th>\n",
       "      <td>...</td>\n",
       "      <td>...</td>\n",
       "      <td>...</td>\n",
       "      <td>...</td>\n",
       "    </tr>\n",
       "    <tr>\n",
       "      <th>95</th>\n",
       "      <td>196</td>\n",
       "      <td>19</td>\n",
       "      <td>1.1</td>\n",
       "      <td>1270499</td>\n",
       "    </tr>\n",
       "    <tr>\n",
       "      <th>96</th>\n",
       "      <td>197</td>\n",
       "      <td>75</td>\n",
       "      <td>6.3</td>\n",
       "      <td>6412623</td>\n",
       "    </tr>\n",
       "    <tr>\n",
       "      <th>97</th>\n",
       "      <td>198</td>\n",
       "      <td>77</td>\n",
       "      <td>6.2</td>\n",
       "      <td>6694797</td>\n",
       "    </tr>\n",
       "    <tr>\n",
       "      <th>98</th>\n",
       "      <td>199</td>\n",
       "      <td>25</td>\n",
       "      <td>2.1</td>\n",
       "      <td>2344689</td>\n",
       "    </tr>\n",
       "    <tr>\n",
       "      <th>99</th>\n",
       "      <td>200</td>\n",
       "      <td>50</td>\n",
       "      <td>4.4</td>\n",
       "      <td>4567678</td>\n",
       "    </tr>\n",
       "  </tbody>\n",
       "</table>\n",
       "<p>100 rows × 4 columns</p>\n",
       "</div>"
      ],
      "text/plain": [
       "     Id  No_Of_Item  Order_Placed  Revenue\n",
       "0   101          55           5.5  5953753\n",
       "1   102          72           6.8  7223131\n",
       "2   103          25           1.9  2555379\n",
       "3   104          18           2.5  2175511\n",
       "4   105          48           4.2  4816715\n",
       "..  ...         ...           ...      ...\n",
       "95  196          19           1.1  1270499\n",
       "96  197          75           6.3  6412623\n",
       "97  198          77           6.2  6694797\n",
       "98  199          25           2.1  2344689\n",
       "99  200          50           4.4  4567678\n",
       "\n",
       "[100 rows x 4 columns]"
      ]
     },
     "execution_count": 20,
     "metadata": {},
     "output_type": "execute_result"
    }
   ],
   "source": [
    "df"
   ]
  },
  {
   "cell_type": "code",
   "execution_count": 21,
   "id": "c123d42f",
   "metadata": {},
   "outputs": [],
   "source": [
    "#now we have predict the data \n",
    "# our target column is Revenue and revanue column have cotinues data  so i use linerregression for that\n"
   ]
  },
  {
   "cell_type": "code",
   "execution_count": 78,
   "id": "5f273cb8",
   "metadata": {},
   "outputs": [],
   "source": [
    "#The first step is to choose independent and dependent variables.\n",
    "x = df.iloc[:,:-1]\n",
    "y = df[['Revenue']]\n",
    "#x is independent column\n",
    "#y is target column"
   ]
  },
  {
   "cell_type": "code",
   "execution_count": 79,
   "id": "14e11307",
   "metadata": {},
   "outputs": [],
   "source": [
    "#split Data \n",
    "from sklearn.model_selection import train_test_split"
   ]
  },
  {
   "cell_type": "code",
   "execution_count": 80,
   "id": "a3d9aa6d",
   "metadata": {},
   "outputs": [],
   "source": [
    "x_train,x_test,y_train,y_test = train_test_split(x,y,test_size=0.2,random_state=23)"
   ]
  },
  {
   "cell_type": "code",
   "execution_count": 81,
   "id": "ab9d4afe",
   "metadata": {},
   "outputs": [],
   "source": [
    "#now import Lninerregression lib\n",
    "from sklearn.linear_model import LinearRegression"
   ]
  },
  {
   "cell_type": "code",
   "execution_count": 82,
   "id": "9ebad32c",
   "metadata": {},
   "outputs": [],
   "source": [
    "li = LinearRegression()\n"
   ]
  },
  {
   "cell_type": "code",
   "execution_count": 83,
   "id": "3c240230",
   "metadata": {},
   "outputs": [],
   "source": [
    "model = li.fit(x_train,y_train)\n",
    "#train out model"
   ]
  },
  {
   "cell_type": "code",
   "execution_count": 84,
   "id": "8d74cd3e",
   "metadata": {},
   "outputs": [],
   "source": [
    "prediction = model.predict(x_test)\n",
    "#predict our model"
   ]
  },
  {
   "cell_type": "code",
   "execution_count": 85,
   "id": "6c6b7c4a",
   "metadata": {},
   "outputs": [],
   "source": [
    "from sklearn.metrics import r2_score,mean_absolute_error,mean_squared_error\n",
    "#check accurancy with help of r2_score"
   ]
  },
  {
   "cell_type": "code",
   "execution_count": 86,
   "id": "da1bfab5",
   "metadata": {},
   "outputs": [
    {
     "data": {
      "text/plain": [
       "0.8342653250221544"
      ]
     },
     "execution_count": 86,
     "metadata": {},
     "output_type": "execute_result"
    }
   ],
   "source": [
    "r2_score(prediction,y_test)"
   ]
  },
  {
   "cell_type": "markdown",
   "id": "b0688f85",
   "metadata": {},
   "source": [
    "###### our model is ready and 83% of our model is accurate"
   ]
  },
  {
   "cell_type": "code",
   "execution_count": null,
   "id": "202f9db7",
   "metadata": {},
   "outputs": [],
   "source": []
  }
 ],
 "metadata": {
  "kernelspec": {
   "display_name": "Python 3 (ipykernel)",
   "language": "python",
   "name": "python3"
  },
  "language_info": {
   "codemirror_mode": {
    "name": "ipython",
    "version": 3
   },
   "file_extension": ".py",
   "mimetype": "text/x-python",
   "name": "python",
   "nbconvert_exporter": "python",
   "pygments_lexer": "ipython3",
   "version": "3.11.5"
  }
 },
 "nbformat": 4,
 "nbformat_minor": 5
}
